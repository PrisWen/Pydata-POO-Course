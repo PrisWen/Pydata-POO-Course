{
 "cells": [
  {
   "cell_type": "code",
   "execution_count": 56,
   "metadata": {},
   "outputs": [],
   "source": [
    "class Book:\n",
    "    def __init__(self, title, genre, author, price, quantity):\n",
    "        self.title = title\n",
    "        self.genre = genre\n",
    "        self.author = author\n",
    "        self.price = price\n",
    "        self.quantity = quantity\n",
    "        \n",
    "\n",
    "    def sell(self):\n",
    "        self.quantity -= 1\n",
    "        print(\"You sell the Book {} now you have only {} available\".format(self.title, self.quantity))\n",
    "        \n",
    "    \n",
    "    def discount(self, percent):\n",
    "        self.price = self.price - ( self.price * percent / 100)\n",
    "        print(\"New price\", self.price)\n",
    "    \n",
    "    def __str__(self):\n",
    "        return \"Book - title: {}, genre: {}, author: {}, price: {} , quantity: {}\".format(self.title, self.genre, self.author, self.price, self.quantity)"
   ]
  },
  {
   "cell_type": "code",
   "execution_count": 57,
   "metadata": {},
   "outputs": [
    {
     "name": "stdout",
     "output_type": "stream",
     "text": [
      "Book - title: Inferno, genre: Mystery, author: Dan Brown, price: 200 , quantity: 5\n"
     ]
    }
   ],
   "source": [
    "book = Book(\"Inferno\",\"Mystery\",\"Dan Brown\", 200, 5)\n",
    "print(book)"
   ]
  },
  {
   "cell_type": "code",
   "execution_count": 58,
   "metadata": {},
   "outputs": [
    {
     "name": "stdout",
     "output_type": "stream",
     "text": [
      "You sell the Book Inferno now you have only 4 available\n"
     ]
    }
   ],
   "source": [
    "book.sell()"
   ]
  },
  {
   "cell_type": "code",
   "execution_count": 59,
   "metadata": {},
   "outputs": [
    {
     "name": "stdout",
     "output_type": "stream",
     "text": [
      "New price 180.0\n"
     ]
    }
   ],
   "source": [
    "book.discount(10)"
   ]
  },
  {
   "cell_type": "code",
   "execution_count": 60,
   "metadata": {},
   "outputs": [
    {
     "name": "stdout",
     "output_type": "stream",
     "text": [
      "You sell the Book Inferno now you have only 3 available\n"
     ]
    }
   ],
   "source": [
    "book.sell()"
   ]
  },
  {
   "cell_type": "code",
   "execution_count": 25,
   "metadata": {},
   "outputs": [],
   "source": [
    "class Tweet:\n",
    "    def __init__(self, user, text):\n",
    "        self.user = user\n",
    "        self.text = text\n",
    "        self.nro_likes = 0\n",
    "        self.nro_retweets = 0\n",
    "    def like(self):\n",
    "        self.nro_likes += 1\n",
    "        print(\"Tweet has {} likes\", self.nro_likes)\n",
    "    \n",
    "    def retweet(self):\n",
    "        self.nro_retweets += 1\n",
    "        print(\"Tweet has {} retweets\", self.nro_retweets)\n",
    "        \n",
    "    def dislike(self):\n",
    "        self.nro_likes -= 1\n",
    "        print(\"Tweet has {} likes\", self.nro_likes)\n",
    "    \n",
    "    def undo_retweet(self):\n",
    "        self.nro_retweets -= 1\n",
    "        print(\"Tweet has {} retweets\", self.nro_retweets)        \n",
    "  \n",
    "    \n",
    "    def __str__(self):\n",
    "        return \"Tweet - user: {}, text: {}, nro_likes: {}, nro_retweets {}\".format(self.user, self.text, self.nro_likes, self.nro_retweets)"
   ]
  },
  {
   "cell_type": "code",
   "execution_count": 26,
   "metadata": {},
   "outputs": [
    {
     "name": "stdout",
     "output_type": "stream",
     "text": [
      "Tweet - user: Priii, text: I like Python, nro_likes: 0, nro_retweets 0\n"
     ]
    }
   ],
   "source": [
    "tweet_Pri = Tweet(\"Priii\", \"I like Python\")\n",
    "print(tweet_Pri)"
   ]
  },
  {
   "cell_type": "code",
   "execution_count": 27,
   "metadata": {},
   "outputs": [
    {
     "name": "stdout",
     "output_type": "stream",
     "text": [
      "Tweet has {} likes 1\n",
      "Tweet has {} likes 2\n",
      "Tweet has {} likes 3\n",
      "Tweet has {} likes 2\n"
     ]
    }
   ],
   "source": [
    "tweet_Pri.like()\n",
    "tweet_Pri.like()\n",
    "tweet_Pri.like()\n",
    "tweet_Pri.dislike()\n"
   ]
  },
  {
   "cell_type": "code",
   "execution_count": 28,
   "metadata": {},
   "outputs": [
    {
     "name": "stdout",
     "output_type": "stream",
     "text": [
      "Tweet has {} retweets 1\n",
      "Tweet has {} retweets 2\n"
     ]
    }
   ],
   "source": [
    "tweet_Pri.retweet()\n",
    "tweet_Pri.retweet()"
   ]
  }
 ],
 "metadata": {
  "kernelspec": {
   "display_name": "Python 3",
   "language": "python",
   "name": "python3"
  },
  "language_info": {
   "codemirror_mode": {
    "name": "ipython",
    "version": 3
   },
   "file_extension": ".py",
   "mimetype": "text/x-python",
   "name": "python",
   "nbconvert_exporter": "python",
   "pygments_lexer": "ipython3",
   "version": "3.7.4"
  }
 },
 "nbformat": 4,
 "nbformat_minor": 2
}
