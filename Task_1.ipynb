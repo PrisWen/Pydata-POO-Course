{
 "cells": [
  {
   "cell_type": "code",
   "execution_count": 56,
   "metadata": {},
   "outputs": [],
   "source": [
    "class Book:\n",
    "    def __init__(self, title, genre, author, price, quantity):\n",
    "        self.title = title\n",
    "        self.genre = genre\n",
    "        self.author = author\n",
    "        self.price = price\n",
    "        self.quantity = quantity\n",
    "        \n",
    "\n",
    "    def sell(self):\n",
    "        self.quantity -= 1\n",
    "        print(\"You sell the Book {} now you have only {} available\".format(self.title, self.quantity))\n",
    "        \n",
    "    \n",
    "    def discount(self, percent):\n",
    "        self.price = self.price - ( self.price * percent / 100)\n",
    "        print(\"New price\", self.price)\n",
    "    \n",
    "    def __str__(self):\n",
    "        return \"Book - title: {}, genre: {}, author: {}, price: {} , quantity: {}\".format(self.title, self.genre, self.author, self.price, self.quantity)"
   ]
  },
  {
   "cell_type": "code",
   "execution_count": 57,
   "metadata": {},
   "outputs": [
    {
     "name": "stdout",
     "output_type": "stream",
     "text": [
      "Book - title: Inferno, genre: Mystery, author: Dan Brown, price: 200 , quantity: 5\n"
     ]
    }
   ],
   "source": [
    "book = Book(\"Inferno\",\"Mystery\",\"Dan Brown\", 200, 5)\n",
    "print(book)"
   ]
  },
  {
   "cell_type": "code",
   "execution_count": 58,
   "metadata": {},
   "outputs": [
    {
     "name": "stdout",
     "output_type": "stream",
     "text": [
      "You sell the Book Inferno now you have only 4 available\n"
     ]
    }
   ],
   "source": [
    "book.sell()"
   ]
  },
  {
   "cell_type": "code",
   "execution_count": 59,
   "metadata": {},
   "outputs": [
    {
     "name": "stdout",
     "output_type": "stream",
     "text": [
      "New price 180.0\n"
     ]
    }
   ],
   "source": [
    "book.discount(10)"
   ]
  },
  {
   "cell_type": "code",
   "execution_count": 60,
   "metadata": {},
   "outputs": [
    {
     "name": "stdout",
     "output_type": "stream",
     "text": [
      "You sell the Book Inferno now you have only 3 available\n"
     ]
    }
   ],
   "source": [
    "book.sell()"
   ]
  },
  {
   "cell_type": "code",
   "execution_count": null,
   "metadata": {},
   "outputs": [],
   "source": []
  }
 ],
 "metadata": {
  "kernelspec": {
   "display_name": "Python 3",
   "language": "python",
   "name": "python3"
  },
  "language_info": {
   "codemirror_mode": {
    "name": "ipython",
    "version": 3
   },
   "file_extension": ".py",
   "mimetype": "text/x-python",
   "name": "python",
   "nbconvert_exporter": "python",
   "pygments_lexer": "ipython3",
   "version": "3.7.4"
  }
 },
 "nbformat": 4,
 "nbformat_minor": 2
}
